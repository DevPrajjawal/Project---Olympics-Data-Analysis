{
 "cells": [
  {
   "cell_type": "code",
   "execution_count": 1,
   "id": "f9f0ed7b-b5f9-479d-8f64-c93cd0733e78",
   "metadata": {},
   "outputs": [],
   "source": [
    "import numpy as np\n",
    "import pandas as pd\n",
    "import matplotlib.pyplot as plt\n",
    "import seaborn as sns"
   ]
  },
  {
   "cell_type": "code",
   "execution_count": 3,
   "id": "f48f6787-eada-4320-b507-1e071b41f5a2",
   "metadata": {},
   "outputs": [],
   "source": [
    "df= pd.read_csv(\"Summer-Olympic-medals-1976-to-2008.csv\",encoding= \"unicode escape\")"
   ]
  },
  {
   "cell_type": "code",
   "execution_count": 5,
   "id": "879d9e9f-2f2c-4e25-9f09-4d4b8e021a15",
   "metadata": {},
   "outputs": [
    {
     "data": {
      "text/plain": [
       "(15433, 11)"
      ]
     },
     "execution_count": 5,
     "metadata": {},
     "output_type": "execute_result"
    }
   ],
   "source": [
    "df.shape"
   ]
  },
  {
   "cell_type": "code",
   "execution_count": 7,
   "id": "5e81b827-00dc-411e-b1af-489190aeda98",
   "metadata": {},
   "outputs": [
    {
     "data": {
      "text/html": [
       "<div>\n",
       "<style scoped>\n",
       "    .dataframe tbody tr th:only-of-type {\n",
       "        vertical-align: middle;\n",
       "    }\n",
       "\n",
       "    .dataframe tbody tr th {\n",
       "        vertical-align: top;\n",
       "    }\n",
       "\n",
       "    .dataframe thead th {\n",
       "        text-align: right;\n",
       "    }\n",
       "</style>\n",
       "<table border=\"1\" class=\"dataframe\">\n",
       "  <thead>\n",
       "    <tr style=\"text-align: right;\">\n",
       "      <th></th>\n",
       "      <th>City</th>\n",
       "      <th>Year</th>\n",
       "      <th>Sport</th>\n",
       "      <th>Discipline</th>\n",
       "      <th>Event</th>\n",
       "      <th>Athlete</th>\n",
       "      <th>Gender</th>\n",
       "      <th>Country_Code</th>\n",
       "      <th>Country</th>\n",
       "      <th>Event_gender</th>\n",
       "      <th>Medal</th>\n",
       "    </tr>\n",
       "  </thead>\n",
       "  <tbody>\n",
       "    <tr>\n",
       "      <th>0</th>\n",
       "      <td>Montreal</td>\n",
       "      <td>1976.0</td>\n",
       "      <td>Aquatics</td>\n",
       "      <td>Diving</td>\n",
       "      <td>3m springboard</td>\n",
       "      <td>KÖHLER, Christa</td>\n",
       "      <td>Women</td>\n",
       "      <td>GDR</td>\n",
       "      <td>East Germany</td>\n",
       "      <td>W</td>\n",
       "      <td>Silver</td>\n",
       "    </tr>\n",
       "    <tr>\n",
       "      <th>1</th>\n",
       "      <td>Montreal</td>\n",
       "      <td>1976.0</td>\n",
       "      <td>Aquatics</td>\n",
       "      <td>Diving</td>\n",
       "      <td>3m springboard</td>\n",
       "      <td>KOSENKOV, Aleksandr</td>\n",
       "      <td>Men</td>\n",
       "      <td>URS</td>\n",
       "      <td>Soviet Union</td>\n",
       "      <td>M</td>\n",
       "      <td>Bronze</td>\n",
       "    </tr>\n",
       "    <tr>\n",
       "      <th>2</th>\n",
       "      <td>Montreal</td>\n",
       "      <td>1976.0</td>\n",
       "      <td>Aquatics</td>\n",
       "      <td>Diving</td>\n",
       "      <td>3m springboard</td>\n",
       "      <td>BOGGS, Philip George</td>\n",
       "      <td>Men</td>\n",
       "      <td>USA</td>\n",
       "      <td>United States</td>\n",
       "      <td>M</td>\n",
       "      <td>Gold</td>\n",
       "    </tr>\n",
       "    <tr>\n",
       "      <th>3</th>\n",
       "      <td>Montreal</td>\n",
       "      <td>1976.0</td>\n",
       "      <td>Aquatics</td>\n",
       "      <td>Diving</td>\n",
       "      <td>3m springboard</td>\n",
       "      <td>CAGNOTTO, Giorgio Franco</td>\n",
       "      <td>Men</td>\n",
       "      <td>ITA</td>\n",
       "      <td>Italy</td>\n",
       "      <td>M</td>\n",
       "      <td>Silver</td>\n",
       "    </tr>\n",
       "    <tr>\n",
       "      <th>4</th>\n",
       "      <td>Montreal</td>\n",
       "      <td>1976.0</td>\n",
       "      <td>Aquatics</td>\n",
       "      <td>Diving</td>\n",
       "      <td>10m platform</td>\n",
       "      <td>WILSON, Deborah Keplar</td>\n",
       "      <td>Women</td>\n",
       "      <td>USA</td>\n",
       "      <td>United States</td>\n",
       "      <td>W</td>\n",
       "      <td>Bronze</td>\n",
       "    </tr>\n",
       "  </tbody>\n",
       "</table>\n",
       "</div>"
      ],
      "text/plain": [
       "       City    Year     Sport Discipline           Event  \\\n",
       "0  Montreal  1976.0  Aquatics     Diving  3m springboard   \n",
       "1  Montreal  1976.0  Aquatics     Diving  3m springboard   \n",
       "2  Montreal  1976.0  Aquatics     Diving  3m springboard   \n",
       "3  Montreal  1976.0  Aquatics     Diving  3m springboard   \n",
       "4  Montreal  1976.0  Aquatics     Diving    10m platform   \n",
       "\n",
       "                    Athlete Gender Country_Code        Country Event_gender  \\\n",
       "0           KÖHLER, Christa  Women          GDR   East Germany            W   \n",
       "1       KOSENKOV, Aleksandr    Men          URS   Soviet Union            M   \n",
       "2      BOGGS, Philip George    Men          USA  United States            M   \n",
       "3  CAGNOTTO, Giorgio Franco    Men          ITA          Italy            M   \n",
       "4    WILSON, Deborah Keplar  Women          USA  United States            W   \n",
       "\n",
       "    Medal  \n",
       "0  Silver  \n",
       "1  Bronze  \n",
       "2    Gold  \n",
       "3  Silver  \n",
       "4  Bronze  "
      ]
     },
     "execution_count": 7,
     "metadata": {},
     "output_type": "execute_result"
    }
   ],
   "source": [
    "df.head()"
   ]
  },
  {
   "cell_type": "code",
   "execution_count": 9,
   "id": "299dbc30-0e21-4f5a-9905-9051f4c217ba",
   "metadata": {},
   "outputs": [
    {
     "name": "stdout",
     "output_type": "stream",
     "text": [
      "<class 'pandas.core.frame.DataFrame'>\n",
      "RangeIndex: 15433 entries, 0 to 15432\n",
      "Data columns (total 11 columns):\n",
      " #   Column        Non-Null Count  Dtype  \n",
      "---  ------        --------------  -----  \n",
      " 0   City          15316 non-null  object \n",
      " 1   Year          15316 non-null  float64\n",
      " 2   Sport         15316 non-null  object \n",
      " 3   Discipline    15316 non-null  object \n",
      " 4   Event         15316 non-null  object \n",
      " 5   Athlete       15316 non-null  object \n",
      " 6   Gender        15316 non-null  object \n",
      " 7   Country_Code  15316 non-null  object \n",
      " 8   Country       15316 non-null  object \n",
      " 9   Event_gender  15316 non-null  object \n",
      " 10  Medal         15316 non-null  object \n",
      "dtypes: float64(1), object(10)\n",
      "memory usage: 1.3+ MB\n"
     ]
    }
   ],
   "source": [
    "df.info()"
   ]
  },
  {
   "cell_type": "code",
   "execution_count": 11,
   "id": "84c05c39-fd73-481d-87c3-ee7d82071322",
   "metadata": {},
   "outputs": [
    {
     "data": {
      "text/plain": [
       "City            117\n",
       "Year            117\n",
       "Sport           117\n",
       "Discipline      117\n",
       "Event           117\n",
       "Athlete         117\n",
       "Gender          117\n",
       "Country_Code    117\n",
       "Country         117\n",
       "Event_gender    117\n",
       "Medal           117\n",
       "dtype: int64"
      ]
     },
     "execution_count": 11,
     "metadata": {},
     "output_type": "execute_result"
    }
   ],
   "source": [
    "pd.isnull(df).sum()"
   ]
  },
  {
   "cell_type": "code",
   "execution_count": 15,
   "id": "6547ccb7-cf46-47a6-88af-8b9180322198",
   "metadata": {},
   "outputs": [],
   "source": [
    "df.dropna(inplace=True) #removes null values"
   ]
  },
  {
   "cell_type": "code",
   "execution_count": 17,
   "id": "c2ac4aa4-4ce7-48ca-8e36-d2d457f56533",
   "metadata": {},
   "outputs": [],
   "source": [
    "df.drop([\"Country_Code\",\"Event_gender\"],axis=1,inplace=True)  #remove the columns which is not useful"
   ]
  },
  {
   "cell_type": "code",
   "execution_count": 19,
   "id": "25bb728d-aadc-40b8-93ce-ad57f2fe358a",
   "metadata": {},
   "outputs": [],
   "source": [
    "df['Year'] = df['Year'].astype(int)  #changes the datatype of year from float to int"
   ]
  },
  {
   "cell_type": "markdown",
   "id": "813ea4eb-d683-4af9-978e-c987405546e4",
   "metadata": {},
   "source": [
    "Check the above process is completed or not.\n"
   ]
  },
  {
   "cell_type": "code",
   "execution_count": 22,
   "id": "f5e005f2-7d87-4360-be76-83763aedbfac",
   "metadata": {},
   "outputs": [
    {
     "data": {
      "text/plain": [
       "City          0\n",
       "Year          0\n",
       "Sport         0\n",
       "Discipline    0\n",
       "Event         0\n",
       "Athlete       0\n",
       "Gender        0\n",
       "Country       0\n",
       "Medal         0\n",
       "dtype: int64"
      ]
     },
     "execution_count": 22,
     "metadata": {},
     "output_type": "execute_result"
    }
   ],
   "source": [
    "pd.isnull(df).sum()"
   ]
  },
  {
   "cell_type": "code",
   "execution_count": 26,
   "id": "38ee5559-f875-41d2-8e75-0904df51e4e6",
   "metadata": {},
   "outputs": [
    {
     "name": "stdout",
     "output_type": "stream",
     "text": [
      "<class 'pandas.core.frame.DataFrame'>\n",
      "Index: 15316 entries, 0 to 15432\n",
      "Data columns (total 9 columns):\n",
      " #   Column      Non-Null Count  Dtype \n",
      "---  ------      --------------  ----- \n",
      " 0   City        15316 non-null  object\n",
      " 1   Year        15316 non-null  int32 \n",
      " 2   Sport       15316 non-null  object\n",
      " 3   Discipline  15316 non-null  object\n",
      " 4   Event       15316 non-null  object\n",
      " 5   Athlete     15316 non-null  object\n",
      " 6   Gender      15316 non-null  object\n",
      " 7   Country     15316 non-null  object\n",
      " 8   Medal       15316 non-null  object\n",
      "dtypes: int32(1), object(8)\n",
      "memory usage: 1.1+ MB\n"
     ]
    }
   ],
   "source": [
    "df.info()    #check the changed datatype\n",
    "             #check the column is removed or not\n",
    "             #check the null values"
   ]
  },
  {
   "cell_type": "markdown",
   "id": "954c8912-bfc3-441a-a16f-6cdc45490aaa",
   "metadata": {},
   "source": [
    "EDA\n"
   ]
  },
  {
   "cell_type": "code",
   "execution_count": 29,
   "id": "506dc25b-7e61-49b3-aaf3-762f4d7609e9",
   "metadata": {},
   "outputs": [
    {
     "data": {
      "text/html": [
       "<div>\n",
       "<style scoped>\n",
       "    .dataframe tbody tr th:only-of-type {\n",
       "        vertical-align: middle;\n",
       "    }\n",
       "\n",
       "    .dataframe tbody tr th {\n",
       "        vertical-align: top;\n",
       "    }\n",
       "\n",
       "    .dataframe thead th {\n",
       "        text-align: right;\n",
       "    }\n",
       "</style>\n",
       "<table border=\"1\" class=\"dataframe\">\n",
       "  <thead>\n",
       "    <tr style=\"text-align: right;\">\n",
       "      <th></th>\n",
       "      <th>City</th>\n",
       "      <th>Year</th>\n",
       "    </tr>\n",
       "  </thead>\n",
       "  <tbody>\n",
       "    <tr>\n",
       "      <th>0</th>\n",
       "      <td>Montreal</td>\n",
       "      <td>1976</td>\n",
       "    </tr>\n",
       "    <tr>\n",
       "      <th>1422</th>\n",
       "      <td>Moscow</td>\n",
       "      <td>1980</td>\n",
       "    </tr>\n",
       "    <tr>\n",
       "      <th>2809</th>\n",
       "      <td>Los Angeles</td>\n",
       "      <td>1984</td>\n",
       "    </tr>\n",
       "    <tr>\n",
       "      <th>4268</th>\n",
       "      <td>Seoul</td>\n",
       "      <td>1988</td>\n",
       "    </tr>\n",
       "    <tr>\n",
       "      <th>5814</th>\n",
       "      <td>Barcelona</td>\n",
       "      <td>1992</td>\n",
       "    </tr>\n",
       "    <tr>\n",
       "      <th>7519</th>\n",
       "      <td>Atlanta</td>\n",
       "      <td>1996</td>\n",
       "    </tr>\n",
       "    <tr>\n",
       "      <th>9378</th>\n",
       "      <td>Sydney</td>\n",
       "      <td>2000</td>\n",
       "    </tr>\n",
       "    <tr>\n",
       "      <th>11393</th>\n",
       "      <td>Athens</td>\n",
       "      <td>2004</td>\n",
       "    </tr>\n",
       "    <tr>\n",
       "      <th>13391</th>\n",
       "      <td>Beijing</td>\n",
       "      <td>2008</td>\n",
       "    </tr>\n",
       "  </tbody>\n",
       "</table>\n",
       "</div>"
      ],
      "text/plain": [
       "              City  Year\n",
       "0         Montreal  1976\n",
       "1422        Moscow  1980\n",
       "2809   Los Angeles  1984\n",
       "4268         Seoul  1988\n",
       "5814     Barcelona  1992\n",
       "7519       Atlanta  1996\n",
       "9378        Sydney  2000\n",
       "11393       Athens  2004\n",
       "13391      Beijing  2008"
      ]
     },
     "execution_count": 29,
     "metadata": {},
     "output_type": "execute_result"
    }
   ],
   "source": [
    "q1_data = df[[\"City\", 'Year']]\n",
    "q1_data = q1_data.drop_duplicates('Year')\n",
    "q1_data"
   ]
  },
  {
   "cell_type": "markdown",
   "id": "a148cd9e-a09c-46d6-b101-0dcca8975887",
   "metadata": {},
   "source": [
    "From 1976, no city has hosted olympics twice."
   ]
  },
  {
   "cell_type": "code",
   "execution_count": 34,
   "id": "1a450676-96c3-43f2-bf98-42ea9ccbe37a",
   "metadata": {},
   "outputs": [
    {
     "data": {
      "text/plain": [
       "<Axes: xlabel='City'>"
      ]
     },
     "execution_count": 34,
     "metadata": {},
     "output_type": "execute_result"
    },
    {
     "data": {
      "image/png": "[encoded data removed]",
      "text/plain": [
       "<Figure size 1000x400 with 1 Axes>"
      ]
     },
     "metadata": {},
     "output_type": "display_data"
    }
   ],
   "source": [
    "q2_data = df['City'].value_counts()\n",
    "q2_data.columns = ['City', 'Count']\n",
    "plt.figure(figsize = (10,4))\n",
    "q2_data.plot.bar(x = 'City', y = 'Count')"
   ]
  },
  {
   "cell_type": "markdown",
   "id": "0c51b493-b9b8-444e-91c0-95b9623dff8b",
   "metadata": {},
   "source": [
    "Beijing has hosted the biggest olympics since 1976 till 2008, followed by Sydney and Athens."
   ]
  },
  {
   "cell_type": "code",
   "execution_count": 37,
   "id": "5a270e87-b9af-4722-a096-2033df5ba28e",
   "metadata": {},
   "outputs": [
    {
     "name": "stdout",
     "output_type": "stream",
     "text": [
      "Total number of unique events are held so far are : 334\n"
     ]
    },
    {
     "data": {
      "text/html": [
       "<div>\n",
       "<style scoped>\n",
       "    .dataframe tbody tr th:only-of-type {\n",
       "        vertical-align: middle;\n",
       "    }\n",
       "\n",
       "    .dataframe tbody tr th {\n",
       "        vertical-align: top;\n",
       "    }\n",
       "\n",
       "    .dataframe thead th {\n",
       "        text-align: right;\n",
       "    }\n",
       "</style>\n",
       "<table border=\"1\" class=\"dataframe\">\n",
       "  <thead>\n",
       "    <tr style=\"text-align: right;\">\n",
       "      <th></th>\n",
       "      <th>Sport</th>\n",
       "      <th>Discipline</th>\n",
       "      <th>Event</th>\n",
       "    </tr>\n",
       "  </thead>\n",
       "  <tbody>\n",
       "    <tr>\n",
       "      <th>0</th>\n",
       "      <td>Aquatics</td>\n",
       "      <td>Diving</td>\n",
       "      <td>3m springboard</td>\n",
       "    </tr>\n",
       "    <tr>\n",
       "      <th>4</th>\n",
       "      <td>Aquatics</td>\n",
       "      <td>Diving</td>\n",
       "      <td>10m platform</td>\n",
       "    </tr>\n",
       "    <tr>\n",
       "      <th>12</th>\n",
       "      <td>Aquatics</td>\n",
       "      <td>Swimming</td>\n",
       "      <td>4x100m freestyle relay</td>\n",
       "    </tr>\n",
       "    <tr>\n",
       "      <th>13</th>\n",
       "      <td>Aquatics</td>\n",
       "      <td>Swimming</td>\n",
       "      <td>400m freestyle</td>\n",
       "    </tr>\n",
       "    <tr>\n",
       "      <th>15</th>\n",
       "      <td>Aquatics</td>\n",
       "      <td>Swimming</td>\n",
       "      <td>1500m freestyle</td>\n",
       "    </tr>\n",
       "    <tr>\n",
       "      <th>...</th>\n",
       "      <td>...</td>\n",
       "      <td>...</td>\n",
       "      <td>...</td>\n",
       "    </tr>\n",
       "    <tr>\n",
       "      <th>15016</th>\n",
       "      <td>Sailing</td>\n",
       "      <td>Sailing</td>\n",
       "      <td>Laser Radial - One Person Dinghy</td>\n",
       "    </tr>\n",
       "    <tr>\n",
       "      <th>15020</th>\n",
       "      <td>Sailing</td>\n",
       "      <td>Sailing</td>\n",
       "      <td>Finn - Heavyweight Dinghy</td>\n",
       "    </tr>\n",
       "    <tr>\n",
       "      <th>15026</th>\n",
       "      <td>Sailing</td>\n",
       "      <td>Sailing</td>\n",
       "      <td>Laser - One Person Dinghy</td>\n",
       "    </tr>\n",
       "    <tr>\n",
       "      <th>15029</th>\n",
       "      <td>Sailing</td>\n",
       "      <td>Sailing</td>\n",
       "      <td>RS:X - Windsurfer</td>\n",
       "    </tr>\n",
       "    <tr>\n",
       "      <th>15153</th>\n",
       "      <td>Table Tennis</td>\n",
       "      <td>Table Tennis</td>\n",
       "      <td>team</td>\n",
       "    </tr>\n",
       "  </tbody>\n",
       "</table>\n",
       "<p>334 rows × 3 columns</p>\n",
       "</div>"
      ],
      "text/plain": [
       "              Sport    Discipline                             Event\n",
       "0          Aquatics        Diving                    3m springboard\n",
       "4          Aquatics        Diving                      10m platform\n",
       "12         Aquatics      Swimming            4x100m freestyle relay\n",
       "13         Aquatics      Swimming                    400m freestyle\n",
       "15         Aquatics      Swimming                   1500m freestyle\n",
       "...             ...           ...                               ...\n",
       "15016       Sailing       Sailing  Laser Radial - One Person Dinghy\n",
       "15020       Sailing       Sailing         Finn - Heavyweight Dinghy\n",
       "15026       Sailing       Sailing         Laser - One Person Dinghy\n",
       "15029       Sailing       Sailing                 RS:X - Windsurfer\n",
       "15153  Table Tennis  Table Tennis                              team\n",
       "\n",
       "[334 rows x 3 columns]"
      ]
     },
     "execution_count": 37,
     "metadata": {},
     "output_type": "execute_result"
    }
   ],
   "source": [
    "q3_data = df[['Sport', 'Discipline','Event']].drop_duplicates()\n",
    "print(\"Total number of unique events are held so far are :\",len(q3_data))\n",
    "q3_data"
   ]
  },
  {
   "cell_type": "code",
   "execution_count": 39,
   "id": "e4c3a196-a0d8-4aa2-b810-cf90b62f334c",
   "metadata": {},
   "outputs": [
    {
     "data": {
      "text/plain": [
       "<Axes: xlabel='Sport'>"
      ]
     },
     "execution_count": 39,
     "metadata": {},
     "output_type": "execute_result"
    },
    {
     "data": {
      "image/png": "[encoded data removed]",
      "text/plain": [
       "<Figure size 1000x400 with 1 Axes>"
      ]
     },
     "metadata": {},
     "output_type": "display_data"
    }
   ],
   "source": [
    "q3_data = q3_data.groupby(['Sport'])['Sport'].size()\n",
    "plt.figure(figsize = (10,4))\n",
    "q3_data.plot.bar(x = 'Sport', y = 'Count')"
   ]
  },
  {
   "cell_type": "markdown",
   "id": "3768f0ce-2b03-4ffe-a389-19db3d2fce43",
   "metadata": {},
   "source": [
    "Sports with most events are Wrestling, Weightlifting and Judo.\n",
    "Total number of unique events are held so far are : 334."
   ]
  },
  {
   "cell_type": "code",
   "execution_count": 42,
   "id": "debe2130-0e30-404e-9147-4bba643802e4",
   "metadata": {},
   "outputs": [],
   "source": [
    "q4_data =df.groupby(['Athlete'])['Athlete'].count().reset_index(name ='Count').sort_values(ascending = False , by = ['Count'])\n",
    "q4_data = q4_data[:10]"
   ]
  },
  {
   "cell_type": "code",
   "execution_count": 44,
   "id": "ca21d229-0060-4a8e-81a6-f3df9349ccac",
   "metadata": {},
   "outputs": [
    {
     "data": {
      "text/plain": [
       "<Axes: xlabel='Athlete'>"
      ]
     },
     "execution_count": 44,
     "metadata": {},
     "output_type": "execute_result"
    },
    {
     "data": {
      "image/png": "[encoded data removed]",
      "text/plain": [
       "<Figure size 640x480 with 1 Axes>"
      ]
     },
     "metadata": {},
     "output_type": "display_data"
    }
   ],
   "source": [
    "q4_data.plot.bar(x = 'Athlete', y = 'Count')"
   ]
  },
  {
   "cell_type": "markdown",
   "id": "f1f6c91d-36dc-4fed-83d1-e951ea34e433",
   "metadata": {},
   "source": [
    "Michael Phelps won 16 medals during 1976 to 2008. GOAT for a reason."
   ]
  },
  {
   "cell_type": "code",
   "execution_count": 47,
   "id": "02b57a69-e5b0-441f-8bb9-9146ee224fca",
   "metadata": {},
   "outputs": [
    {
     "data": {
      "text/plain": [
       "<Axes: ylabel='Gender'>"
      ]
     },
     "execution_count": 47,
     "metadata": {},
     "output_type": "execute_result"
    },
    {
     "data": {
      "image/png": "[encoded data removed]",
      "text/plain": [
       "<Figure size 1200x200 with 1 Axes>"
      ]
     },
     "metadata": {},
     "output_type": "display_data"
    }
   ],
   "source": [
    "q5_data = df.groupby(['Gender'])['Gender'].count()\n",
    "plt.figure(figsize = (12,2))\n",
    "q5_data.plot.barh(x = 'Athlete', y = 'Count')"
   ]
  },
  {
   "cell_type": "markdown",
   "id": "55796097-ec9f-40de-aa48-6f1d0b755d3e",
   "metadata": {},
   "source": [
    "Seems that there are some events which are made only for male."
   ]
  },
  {
   "cell_type": "code",
   "execution_count": 50,
   "id": "cfb73aa7-c4da-40df-86af-27e3d0bd0fc1",
   "metadata": {},
   "outputs": [
    {
     "data": {
      "text/plain": [
       "Event                               Gender\n",
       "+ 100kg (heavyweight)               Men        16\n",
       "+ 100kg (super heavyweight)         Men        18\n",
       "+ 105kg                             Men         9\n",
       "+ 108kg, total (super heavyweight)  Men         3\n",
       "+ 110kg, total (super heavyweight)  Men        15\n",
       "                                             ... \n",
       "water polo                          Women     117\n",
       "épée individual                     Men        27\n",
       "                                    Women      12\n",
       "épée team                           Men       114\n",
       "                                    Women      30\n",
       "Name: Gender, Length: 379, dtype: int64"
      ]
     },
     "execution_count": 50,
     "metadata": {},
     "output_type": "execute_result"
    }
   ],
   "source": [
    "q5_data = df[['Event', 'Gender']]\n",
    "q5_data = q5_data.groupby(['Event','Gender'])['Gender'].count()\n",
    "q5_data"
   ]
  },
  {
   "cell_type": "markdown",
   "id": "8eb8ce84-4406-4d65-bdb5-f7ca639f3279",
   "metadata": {},
   "source": [
    "There is a huge difference in number of male winner and female  winner implying number of sporting event for male are way more then for female.People like me who thought every sport has both male and famale version , but thats not true :)."
   ]
  },
  {
   "cell_type": "code",
   "execution_count": 67,
   "id": "4511c35f-75d2-45a6-b0bc-16bae5a013f3",
   "metadata": {},
   "outputs": [
    {
     "name": "stdout",
     "output_type": "stream",
     "text": [
      "['Soviet Union' 'East Germany' 'United States' 'West Germany' 'Poland'\n",
      " 'Hungary' 'Romania' 'Japan' 'Bulgaria' 'United Kingdom' 'Italy'\n",
      " 'New Zealand' 'Australia' 'Cuba' 'Canada' 'France' 'Yugoslavia'\n",
      " 'Korea, South' 'Pakistan' 'Czechoslovakia' 'Netherlands' 'Sweden'\n",
      " 'Switzerland' 'Belgium' 'Denmark' 'Finland' 'Norway' 'Spain' 'Brazil'\n",
      " 'Iran' 'Jamaica' 'Korea, North' 'Mexico' 'Portugal' 'Austria' 'Bermuda*'\n",
      " 'Mongolia' 'Puerto Rico*' 'Thailand' 'Trinidad and Tobago' 'Venezuela'\n",
      " 'India' 'Zimbabwe' 'Greece' 'Ethiopia' 'Ireland' 'Tanzania' 'Guyana'\n",
      " 'Lebanon' 'Uganda' 'China' 'Nigeria' 'Kenya' 'Turkey' 'Algeria' 'Morocco'\n",
      " 'Cameroon' 'Colombia' \"Cote d'Ivoire\" 'Dominican Republic' 'Egypt'\n",
      " 'Iceland' 'Peru' 'Syria' 'Taiwan' 'Zambia' 'Argentina' 'Indonesia'\n",
      " 'Chile' 'Costa Rica' 'Djibouti' 'Netherlands Antilles*' 'Philippines'\n",
      " 'Senegal' 'Suriname' 'Virgin Islands*' 'Unified team' 'Germany' 'Croatia'\n",
      " 'Ghana' 'Lithuania' 'Slovenia' 'Estonia'\n",
      " 'Independent Olympic Participants (1992)' 'Latvia' 'South Africa'\n",
      " 'Israel' 'Malaysia' 'Namibia' 'Bahamas' 'Qatar' 'Russia' 'Ukraine'\n",
      " 'Belarus' 'Czech Republic' 'Kazakhstan' 'Moldova' 'Slovakia' 'Armenia'\n",
      " 'Georgia' 'Uzbekistan' 'Azerbaijan' 'Burundi' 'Ecuador' 'Hong Kong*'\n",
      " 'Mozambique' 'Tonga' 'Tunisia' 'Saudi Arabia' 'Barbados' 'Kuwait'\n",
      " 'Kyrgyzstan' 'Macedonia' 'Sri Lanka' 'Uruguay' 'Vietnam' 'Paraguay'\n",
      " 'Serbia' 'Eritrea' 'United Arab Emirates' 'Singapore' 'Tajikistan'\n",
      " 'Afghanistan' 'Mauritius' 'Panama' 'Sudan' 'Togo']\n"
     ]
    },
    {
     "data": {
      "text/html": [
       "<div>\n",
       "<style scoped>\n",
       "    .dataframe tbody tr th:only-of-type {\n",
       "        vertical-align: middle;\n",
       "    }\n",
       "\n",
       "    .dataframe tbody tr th {\n",
       "        vertical-align: top;\n",
       "    }\n",
       "\n",
       "    .dataframe thead th {\n",
       "        text-align: right;\n",
       "    }\n",
       "</style>\n",
       "<table border=\"1\" class=\"dataframe\">\n",
       "  <thead>\n",
       "    <tr style=\"text-align: right;\">\n",
       "      <th></th>\n",
       "      <th>Year</th>\n",
       "      <th>Country</th>\n",
       "      <th>Gold</th>\n",
       "      <th>Silver</th>\n",
       "      <th>Bronze</th>\n",
       "      <th>Sum</th>\n",
       "    </tr>\n",
       "  </thead>\n",
       "  <tbody>\n",
       "    <tr>\n",
       "      <th>30</th>\n",
       "      <td>1976</td>\n",
       "      <td>Soviet Union</td>\n",
       "      <td>113.0</td>\n",
       "      <td>93.0</td>\n",
       "      <td>79.0</td>\n",
       "      <td>285.0</td>\n",
       "    </tr>\n",
       "    <tr>\n",
       "      <th>10</th>\n",
       "      <td>1976</td>\n",
       "      <td>East Germany</td>\n",
       "      <td>99.0</td>\n",
       "      <td>51.0</td>\n",
       "      <td>42.0</td>\n",
       "      <td>192.0</td>\n",
       "    </tr>\n",
       "    <tr>\n",
       "      <th>37</th>\n",
       "      <td>1976</td>\n",
       "      <td>United States</td>\n",
       "      <td>63.0</td>\n",
       "      <td>56.0</td>\n",
       "      <td>36.0</td>\n",
       "      <td>155.0</td>\n",
       "    </tr>\n",
       "    <tr>\n",
       "      <th>39</th>\n",
       "      <td>1976</td>\n",
       "      <td>West Germany</td>\n",
       "      <td>21.0</td>\n",
       "      <td>24.0</td>\n",
       "      <td>30.0</td>\n",
       "      <td>75.0</td>\n",
       "    </tr>\n",
       "    <tr>\n",
       "      <th>26</th>\n",
       "      <td>1976</td>\n",
       "      <td>Poland</td>\n",
       "      <td>18.0</td>\n",
       "      <td>29.0</td>\n",
       "      <td>26.0</td>\n",
       "      <td>73.0</td>\n",
       "    </tr>\n",
       "    <tr>\n",
       "      <th>...</th>\n",
       "      <td>...</td>\n",
       "      <td>...</td>\n",
       "      <td>...</td>\n",
       "      <td>...</td>\n",
       "      <td>...</td>\n",
       "      <td>...</td>\n",
       "    </tr>\n",
       "    <tr>\n",
       "      <th>542</th>\n",
       "      <td>2008</td>\n",
       "      <td>Sudan</td>\n",
       "      <td>0.0</td>\n",
       "      <td>1.0</td>\n",
       "      <td>0.0</td>\n",
       "      <td>1.0</td>\n",
       "    </tr>\n",
       "    <tr>\n",
       "      <th>548</th>\n",
       "      <td>2008</td>\n",
       "      <td>Togo</td>\n",
       "      <td>0.0</td>\n",
       "      <td>0.0</td>\n",
       "      <td>1.0</td>\n",
       "      <td>1.0</td>\n",
       "    </tr>\n",
       "    <tr>\n",
       "      <th>550</th>\n",
       "      <td>2008</td>\n",
       "      <td>Tunisia</td>\n",
       "      <td>1.0</td>\n",
       "      <td>0.0</td>\n",
       "      <td>0.0</td>\n",
       "      <td>1.0</td>\n",
       "    </tr>\n",
       "    <tr>\n",
       "      <th>556</th>\n",
       "      <td>2008</td>\n",
       "      <td>Venezuela</td>\n",
       "      <td>0.0</td>\n",
       "      <td>0.0</td>\n",
       "      <td>1.0</td>\n",
       "      <td>1.0</td>\n",
       "    </tr>\n",
       "    <tr>\n",
       "      <th>557</th>\n",
       "      <td>2008</td>\n",
       "      <td>Vietnam</td>\n",
       "      <td>0.0</td>\n",
       "      <td>1.0</td>\n",
       "      <td>0.0</td>\n",
       "      <td>1.0</td>\n",
       "    </tr>\n",
       "  </tbody>\n",
       "</table>\n",
       "<p>559 rows × 6 columns</p>\n",
       "</div>"
      ],
      "text/plain": [
       "     Year        Country   Gold  Silver  Bronze    Sum\n",
       "30   1976   Soviet Union  113.0    93.0    79.0  285.0\n",
       "10   1976   East Germany   99.0    51.0    42.0  192.0\n",
       "37   1976  United States   63.0    56.0    36.0  155.0\n",
       "39   1976   West Germany   21.0    24.0    30.0   75.0\n",
       "26   1976         Poland   18.0    29.0    26.0   73.0\n",
       "..    ...            ...    ...     ...     ...    ...\n",
       "542  2008          Sudan    0.0     1.0     0.0    1.0\n",
       "548  2008           Togo    0.0     0.0     1.0    1.0\n",
       "550  2008        Tunisia    1.0     0.0     0.0    1.0\n",
       "556  2008      Venezuela    0.0     0.0     1.0    1.0\n",
       "557  2008        Vietnam    0.0     1.0     0.0    1.0\n",
       "\n",
       "[559 rows x 6 columns]"
      ]
     },
     "execution_count": 67,
     "metadata": {},
     "output_type": "execute_result"
    }
   ],
   "source": [
    "q6_data = df[['Year', 'Country', 'Medal']]\n",
    "q6_data = q6_data.groupby(['Year', 'Country',\n",
    "'Medal'])['Country'].count().reset_index(name = 'Count')\n",
    "q6_data['Medal'] = pd.Categorical(q6_data['Medal'],\n",
    "categories=['Gold', 'Silver', 'Bronze'], ordered=True)\n",
    "q6_data = q6_data.sort_values(ascending = [True, True, True],by = ['Year', 'Country','Medal'])\n",
    "q6_data = q6_data.pivot( index = ['Year','Country'], columns =['Medal'], values = ['Count']).reset_index()\n",
    "q6_data = q6_data.replace(np.nan, 0)\n",
    "q6_data['Sum'] = q6_data['Count', 'Bronze'] + q6_data['Count','Gold'] + q6_data['Count','Silver']\n",
    "q6_data = q6_data.sort_values(ascending = [True, False],by =['Year','Sum'])\n",
    "q6_data.columns = q6_data.columns.droplevel(0)\n",
    "q6_data.columns = ['Year', 'Country', 'Gold', 'Silver','Bronze', 'Sum']\n",
    "print(q6_data.Country.unique())\n",
    "q6_data"
   ]
  },
  {
   "cell_type": "markdown",
   "id": "85fa389e-bb52-439d-bd8c-886a4d0a1733",
   "metadata": {},
   "source": [
    "So, I created a interactive solution here.Input the country name from the above list and check its performance over the years."
   ]
  },
  {
   "cell_type": "code",
   "execution_count": 85,
   "id": "bf645a59-68ad-4898-97f0-1a61d8de78c8",
   "metadata": {},
   "outputs": [
    {
     "name": "stdin",
     "output_type": "stream",
     "text": [
      "Enter a country name:  China\n"
     ]
    },
    {
     "name": "stdout",
     "output_type": "stream",
     "text": [
      "     Year Country  Gold  Silver  Bronze    Sum\n",
      "84   1984   China  26.0    13.0    37.0   76.0\n",
      "132  1988   China   6.0    16.0    31.0   53.0\n",
      "185  1992   China  18.0    46.0    19.0   83.0\n",
      "253  1996   China  19.0    74.0    17.0  110.0\n",
      "334  2000   China  39.0    23.0    17.0   79.0\n",
      "411  2004   China  52.0    27.0    15.0   94.0\n",
      "488  2008   China  74.0    53.0    57.0  184.0\n"
     ]
    }
   ],
   "source": [
    "country_name = input(\"Enter a country name: \").strip()\n",
    "country_data = q6_data[q6_data['Country'].str.lower() == country_name.lower()]\n",
    "\n",
    "if country_data.empty:\n",
    "    print(\"Country not found or no medal records.\")\n",
    "else:\n",
    "    print(country_data)\n"
   ]
  },
  {
   "cell_type": "code",
   "execution_count": 87,
   "id": "83b86173-9a0f-49aa-9935-d0fad5094c9a",
   "metadata": {},
   "outputs": [
    {
     "data": {
      "text/plain": [
       "array(['Aquatics', 'Archery', 'Athletics', 'Badminton', 'Baseball',\n",
       "       'Basketball', 'Boxing', 'Canoe / Kayak', 'Cycling', 'Equestrian',\n",
       "       'Fencing', 'Football', 'Gymnastics', 'Handball', 'Hockey', 'Judo',\n",
       "       'Modern Pentathlon', 'Rowing', 'Sailing', 'Shooting', 'Softball',\n",
       "       'Table Tennis', 'Taekwondo', 'Tennis', 'Triathlon', 'Volleyball',\n",
       "       'Weightlifting', 'Wrestling'], dtype=object)"
      ]
     },
     "execution_count": 87,
     "metadata": {},
     "output_type": "execute_result"
    }
   ],
   "source": [
    "q7_data = df.groupby(['Sport',\n",
    "'Country'])['Country'].count().reset_index(name ='Count').sort_values(ascending = [True, False],by =['Sport','Count'])\n",
    "q7_data.Sport.unique()"
   ]
  },
  {
   "cell_type": "code",
   "execution_count": 93,
   "id": "17813ffc-c547-4a2b-a5d1-1c581fd66d97",
   "metadata": {},
   "outputs": [
    {
     "name": "stdin",
     "output_type": "stream",
     "text": [
      "Select a Sport from above list Volleyball\n"
     ]
    },
    {
     "name": "stdout",
     "output_type": "stream",
     "text": [
      "          Sport        Country  Count\n",
      "715  Volleyball         Brazil    102\n",
      "734  Volleyball  United States     98\n",
      "730  Volleyball   Soviet Union     72\n"
     ]
    }
   ],
   "source": [
    "inp = 'Archery'\n",
    "try:\n",
    "    inp = input(\"Select a Sport from above list\")\n",
    "except:\n",
    "    print(\"Input is interrupted\")\n",
    "temp = q7_data[q7_data['Sport'] == inp].head(3)\n",
    "print(temp)"
   ]
  },
  {
   "cell_type": "markdown",
   "id": "b45f73c6-c946-4929-b1ac-100cea292bbf",
   "metadata": {},
   "source": [
    "So, here we have an interactive way to see which country has dominated which sports."
   ]
  },
  {
   "cell_type": "markdown",
   "id": "1a858469-f7b4-4b90-b71b-9c52a0c51424",
   "metadata": {},
   "source": [
    "->Athelete changed his or her event and still managed to win the medal!"
   ]
  },
  {
   "cell_type": "code",
   "execution_count": 98,
   "id": "55b29083-d94f-4778-8116-91139364da9d",
   "metadata": {
    "scrolled": true
   },
   "outputs": [
    {
     "name": "stdout",
     "output_type": "stream",
     "text": [
      "('BELOVA, Irina',) ['Athletics', 'Gymnastics']\n",
      "('CHEN, Jing',) ['Table Tennis', 'Volleyball']\n",
      "('DIMITROV, Stefan',) ['Volleyball', 'Weightlifting']\n",
      "('GAVRILOV, Yuri',) ['Football', 'Handball']\n",
      "('GONZALEZ, Raul',) ['Athletics', 'Handball']\n",
      "('KOLESNIKOV, Nikolai',) ['Athletics', 'Weightlifting']\n",
      "('KOVACS, Istvan',) ['Wrestling', 'Boxing']\n",
      "('KOVALENKO, Alexandre',) ['Athletics', 'Aquatics']\n",
      "('KUZNETSOV, Mikhail',) ['Rowing', 'Canoe / Kayak']\n",
      "('KUZNETSOV, Nikolai',) ['Rowing', 'Cycling']\n",
      "('LEE, Eun Kyung',) ['Archery', 'Hockey']\n",
      "('LI, Na',) ['Aquatics', 'Fencing']\n",
      "('LI, Ting',) ['Aquatics', 'Tennis']\n",
      "('OVCHINNIKOVA, Elena',) ['Volleyball', 'Aquatics']\n",
      "('ROMERO, Rebecca',) ['Rowing', 'Cycling']\n",
      "('THOMPSON, Richard',) ['Baseball', 'Athletics']\n",
      "('TOMA, Sanda',) ['Rowing', 'Canoe / Kayak']\n",
      "('WANG, Liping',) ['Football', 'Athletics']\n",
      "('WELLS, Matthew',) ['Hockey', 'Rowing']\n",
      "('YANG, Wei',) ['Badminton', 'Gymnastics']\n",
      "('YOUNG, Tim',) ['Rowing', 'Baseball']\n"
     ]
    }
   ],
   "source": [
    "temp = df[['Athlete','Sport']].drop_duplicates()\n",
    "temp = temp.groupby(['Athlete'])\n",
    "for k,v in temp:\n",
    "    if len(v['Sport'].tolist()) >1:\n",
    "        print(k,v['Sport'].tolist())"
   ]
  },
  {
   "cell_type": "markdown",
   "id": "7f47f3b8-efed-4628-a0b5-2daeda25eca1",
   "metadata": {},
   "source": [
    "So there has been quite a few player who has changed the sport and still won a\r\n",
    "medal."
   ]
  },
  {
   "cell_type": "code",
   "execution_count": 103,
   "id": "a419cfbe-4794-4771-a719-968b6551a0f4",
   "metadata": {},
   "outputs": [
    {
     "data": {
      "text/html": [
       "<div>\n",
       "<style scoped>\n",
       "    .dataframe tbody tr th:only-of-type {\n",
       "        vertical-align: middle;\n",
       "    }\n",
       "\n",
       "    .dataframe tbody tr th {\n",
       "        vertical-align: top;\n",
       "    }\n",
       "\n",
       "    .dataframe thead th {\n",
       "        text-align: right;\n",
       "    }\n",
       "</style>\n",
       "<table border=\"1\" class=\"dataframe\">\n",
       "  <thead>\n",
       "    <tr style=\"text-align: right;\">\n",
       "      <th>Country</th>\n",
       "      <th>Year</th>\n",
       "      <th>Australia</th>\n",
       "      <th>Bulgaria</th>\n",
       "      <th>Canada</th>\n",
       "      <th>China</th>\n",
       "      <th>Cuba</th>\n",
       "      <th>East Germany</th>\n",
       "      <th>Germany</th>\n",
       "      <th>Hungary</th>\n",
       "      <th>Italy</th>\n",
       "      <th>Korea, South</th>\n",
       "      <th>Poland</th>\n",
       "      <th>Romania</th>\n",
       "      <th>Russia</th>\n",
       "      <th>Soviet Union</th>\n",
       "      <th>Unified team</th>\n",
       "      <th>United States</th>\n",
       "      <th>West Germany</th>\n",
       "      <th>Yugoslavia</th>\n",
       "    </tr>\n",
       "  </thead>\n",
       "  <tbody>\n",
       "    <tr>\n",
       "      <th>0</th>\n",
       "      <td>1976</td>\n",
       "      <td>NaN</td>\n",
       "      <td>NaN</td>\n",
       "      <td>NaN</td>\n",
       "      <td>NaN</td>\n",
       "      <td>NaN</td>\n",
       "      <td>192.0</td>\n",
       "      <td>NaN</td>\n",
       "      <td>NaN</td>\n",
       "      <td>NaN</td>\n",
       "      <td>NaN</td>\n",
       "      <td>73.0</td>\n",
       "      <td>NaN</td>\n",
       "      <td>NaN</td>\n",
       "      <td>285.0</td>\n",
       "      <td>NaN</td>\n",
       "      <td>155.0</td>\n",
       "      <td>75.0</td>\n",
       "      <td>NaN</td>\n",
       "    </tr>\n",
       "    <tr>\n",
       "      <th>1</th>\n",
       "      <td>1980</td>\n",
       "      <td>NaN</td>\n",
       "      <td>94.0</td>\n",
       "      <td>NaN</td>\n",
       "      <td>NaN</td>\n",
       "      <td>NaN</td>\n",
       "      <td>260.0</td>\n",
       "      <td>NaN</td>\n",
       "      <td>61.0</td>\n",
       "      <td>NaN</td>\n",
       "      <td>NaN</td>\n",
       "      <td>NaN</td>\n",
       "      <td>72.0</td>\n",
       "      <td>NaN</td>\n",
       "      <td>442.0</td>\n",
       "      <td>NaN</td>\n",
       "      <td>NaN</td>\n",
       "      <td>NaN</td>\n",
       "      <td>NaN</td>\n",
       "    </tr>\n",
       "    <tr>\n",
       "      <th>2</th>\n",
       "      <td>1984</td>\n",
       "      <td>NaN</td>\n",
       "      <td>NaN</td>\n",
       "      <td>86.0</td>\n",
       "      <td>NaN</td>\n",
       "      <td>NaN</td>\n",
       "      <td>NaN</td>\n",
       "      <td>NaN</td>\n",
       "      <td>NaN</td>\n",
       "      <td>NaN</td>\n",
       "      <td>NaN</td>\n",
       "      <td>NaN</td>\n",
       "      <td>106.0</td>\n",
       "      <td>NaN</td>\n",
       "      <td>NaN</td>\n",
       "      <td>NaN</td>\n",
       "      <td>333.0</td>\n",
       "      <td>157.0</td>\n",
       "      <td>87.0</td>\n",
       "    </tr>\n",
       "    <tr>\n",
       "      <th>3</th>\n",
       "      <td>1988</td>\n",
       "      <td>NaN</td>\n",
       "      <td>NaN</td>\n",
       "      <td>NaN</td>\n",
       "      <td>NaN</td>\n",
       "      <td>NaN</td>\n",
       "      <td>174.0</td>\n",
       "      <td>NaN</td>\n",
       "      <td>NaN</td>\n",
       "      <td>NaN</td>\n",
       "      <td>77.0</td>\n",
       "      <td>NaN</td>\n",
       "      <td>NaN</td>\n",
       "      <td>NaN</td>\n",
       "      <td>294.0</td>\n",
       "      <td>NaN</td>\n",
       "      <td>193.0</td>\n",
       "      <td>113.0</td>\n",
       "      <td>NaN</td>\n",
       "    </tr>\n",
       "    <tr>\n",
       "      <th>4</th>\n",
       "      <td>1992</td>\n",
       "      <td>NaN</td>\n",
       "      <td>NaN</td>\n",
       "      <td>NaN</td>\n",
       "      <td>83.0</td>\n",
       "      <td>71.0</td>\n",
       "      <td>NaN</td>\n",
       "      <td>198.0</td>\n",
       "      <td>NaN</td>\n",
       "      <td>NaN</td>\n",
       "      <td>NaN</td>\n",
       "      <td>NaN</td>\n",
       "      <td>NaN</td>\n",
       "      <td>NaN</td>\n",
       "      <td>NaN</td>\n",
       "      <td>223.0</td>\n",
       "      <td>224.0</td>\n",
       "      <td>NaN</td>\n",
       "      <td>NaN</td>\n",
       "    </tr>\n",
       "    <tr>\n",
       "      <th>5</th>\n",
       "      <td>1996</td>\n",
       "      <td>132.0</td>\n",
       "      <td>NaN</td>\n",
       "      <td>NaN</td>\n",
       "      <td>110.0</td>\n",
       "      <td>NaN</td>\n",
       "      <td>NaN</td>\n",
       "      <td>124.0</td>\n",
       "      <td>NaN</td>\n",
       "      <td>NaN</td>\n",
       "      <td>NaN</td>\n",
       "      <td>NaN</td>\n",
       "      <td>NaN</td>\n",
       "      <td>115.0</td>\n",
       "      <td>NaN</td>\n",
       "      <td>NaN</td>\n",
       "      <td>260.0</td>\n",
       "      <td>NaN</td>\n",
       "      <td>NaN</td>\n",
       "    </tr>\n",
       "    <tr>\n",
       "      <th>6</th>\n",
       "      <td>2000</td>\n",
       "      <td>183.0</td>\n",
       "      <td>NaN</td>\n",
       "      <td>NaN</td>\n",
       "      <td>79.0</td>\n",
       "      <td>NaN</td>\n",
       "      <td>NaN</td>\n",
       "      <td>119.0</td>\n",
       "      <td>NaN</td>\n",
       "      <td>NaN</td>\n",
       "      <td>NaN</td>\n",
       "      <td>NaN</td>\n",
       "      <td>NaN</td>\n",
       "      <td>188.0</td>\n",
       "      <td>NaN</td>\n",
       "      <td>NaN</td>\n",
       "      <td>248.0</td>\n",
       "      <td>NaN</td>\n",
       "      <td>NaN</td>\n",
       "    </tr>\n",
       "    <tr>\n",
       "      <th>7</th>\n",
       "      <td>2004</td>\n",
       "      <td>157.0</td>\n",
       "      <td>NaN</td>\n",
       "      <td>NaN</td>\n",
       "      <td>NaN</td>\n",
       "      <td>NaN</td>\n",
       "      <td>NaN</td>\n",
       "      <td>149.0</td>\n",
       "      <td>NaN</td>\n",
       "      <td>102.0</td>\n",
       "      <td>NaN</td>\n",
       "      <td>NaN</td>\n",
       "      <td>NaN</td>\n",
       "      <td>192.0</td>\n",
       "      <td>NaN</td>\n",
       "      <td>NaN</td>\n",
       "      <td>264.0</td>\n",
       "      <td>NaN</td>\n",
       "      <td>NaN</td>\n",
       "    </tr>\n",
       "    <tr>\n",
       "      <th>8</th>\n",
       "      <td>2008</td>\n",
       "      <td>149.0</td>\n",
       "      <td>NaN</td>\n",
       "      <td>NaN</td>\n",
       "      <td>184.0</td>\n",
       "      <td>NaN</td>\n",
       "      <td>NaN</td>\n",
       "      <td>101.0</td>\n",
       "      <td>NaN</td>\n",
       "      <td>NaN</td>\n",
       "      <td>NaN</td>\n",
       "      <td>NaN</td>\n",
       "      <td>NaN</td>\n",
       "      <td>143.0</td>\n",
       "      <td>NaN</td>\n",
       "      <td>NaN</td>\n",
       "      <td>315.0</td>\n",
       "      <td>NaN</td>\n",
       "      <td>NaN</td>\n",
       "    </tr>\n",
       "  </tbody>\n",
       "</table>\n",
       "</div>"
      ],
      "text/plain": [
       "Country  Year  Australia  Bulgaria  Canada  China  Cuba  East Germany  \\\n",
       "0        1976        NaN       NaN     NaN    NaN   NaN         192.0   \n",
       "1        1980        NaN      94.0     NaN    NaN   NaN         260.0   \n",
       "2        1984        NaN       NaN    86.0    NaN   NaN           NaN   \n",
       "3        1988        NaN       NaN     NaN    NaN   NaN         174.0   \n",
       "4        1992        NaN       NaN     NaN   83.0  71.0           NaN   \n",
       "5        1996      132.0       NaN     NaN  110.0   NaN           NaN   \n",
       "6        2000      183.0       NaN     NaN   79.0   NaN           NaN   \n",
       "7        2004      157.0       NaN     NaN    NaN   NaN           NaN   \n",
       "8        2008      149.0       NaN     NaN  184.0   NaN           NaN   \n",
       "\n",
       "Country  Germany  Hungary  Italy  Korea, South  Poland  Romania  Russia  \\\n",
       "0            NaN      NaN    NaN           NaN    73.0      NaN     NaN   \n",
       "1            NaN     61.0    NaN           NaN     NaN     72.0     NaN   \n",
       "2            NaN      NaN    NaN           NaN     NaN    106.0     NaN   \n",
       "3            NaN      NaN    NaN          77.0     NaN      NaN     NaN   \n",
       "4          198.0      NaN    NaN           NaN     NaN      NaN     NaN   \n",
       "5          124.0      NaN    NaN           NaN     NaN      NaN   115.0   \n",
       "6          119.0      NaN    NaN           NaN     NaN      NaN   188.0   \n",
       "7          149.0      NaN  102.0           NaN     NaN      NaN   192.0   \n",
       "8          101.0      NaN    NaN           NaN     NaN      NaN   143.0   \n",
       "\n",
       "Country  Soviet Union  Unified team  United States  West Germany  Yugoslavia  \n",
       "0               285.0           NaN          155.0          75.0         NaN  \n",
       "1               442.0           NaN            NaN           NaN         NaN  \n",
       "2                 NaN           NaN          333.0         157.0        87.0  \n",
       "3               294.0           NaN          193.0         113.0         NaN  \n",
       "4                 NaN         223.0          224.0           NaN         NaN  \n",
       "5                 NaN           NaN          260.0           NaN         NaN  \n",
       "6                 NaN           NaN          248.0           NaN         NaN  \n",
       "7                 NaN           NaN          264.0           NaN         NaN  \n",
       "8                 NaN           NaN          315.0           NaN         NaN  "
      ]
     },
     "execution_count": 103,
     "metadata": {},
     "output_type": "execute_result"
    }
   ],
   "source": [
    "q9_data = q6_data[['Year', 'Country','Sum']].groupby(['Year']).apply(lambda x : x.nlargest(5,'Sum'))\n",
    "q9_data = q9_data.pivot( index = ['Year'], columns =['Country'], values = ['Sum']).reset_index()\n",
    "q9_data.columns = q9_data.columns.droplevel(0)    # q9_data.columns = ['Year', 'Country', 'Gold', 'Silver','Bronze', 'Sum']\n",
    "q9_data = q9_data.rename(columns={ q9_data.columns[0]: \"Year\"})\n",
    "q9_data\n",
    "# temp =q6_data.where(q6_data.Country.isin(q9_data.columns)).dropna()[[\"Year\", \"Country\", \"Sum\"]]\n",
    "# temp"
   ]
  },
  {
   "cell_type": "code",
   "execution_count": 105,
   "id": "a48ad87d-bcd6-4436-ad3e-e2b13ba66d53",
   "metadata": {},
   "outputs": [
    {
     "data": {
      "text/html": [
       "<div>\n",
       "<style scoped>\n",
       "    .dataframe tbody tr th:only-of-type {\n",
       "        vertical-align: middle;\n",
       "    }\n",
       "\n",
       "    .dataframe tbody tr th {\n",
       "        vertical-align: top;\n",
       "    }\n",
       "\n",
       "    .dataframe thead th {\n",
       "        text-align: right;\n",
       "    }\n",
       "</style>\n",
       "<table border=\"1\" class=\"dataframe\">\n",
       "  <thead>\n",
       "    <tr style=\"text-align: right;\">\n",
       "      <th>Country</th>\n",
       "      <th>Year</th>\n",
       "      <th>Australia</th>\n",
       "      <th>Bulgaria</th>\n",
       "      <th>Canada</th>\n",
       "      <th>China</th>\n",
       "      <th>Cuba</th>\n",
       "      <th>East Germany</th>\n",
       "      <th>Germany</th>\n",
       "      <th>Hungary</th>\n",
       "      <th>Italy</th>\n",
       "      <th>Korea, South</th>\n",
       "      <th>Poland</th>\n",
       "      <th>Romania</th>\n",
       "      <th>Russia</th>\n",
       "      <th>Soviet Union</th>\n",
       "      <th>Unified team</th>\n",
       "      <th>United States</th>\n",
       "      <th>West Germany</th>\n",
       "      <th>Yugoslavia</th>\n",
       "    </tr>\n",
       "  </thead>\n",
       "  <tbody>\n",
       "    <tr>\n",
       "      <th>0</th>\n",
       "      <td>1976.0</td>\n",
       "      <td>24.0</td>\n",
       "      <td>39.0</td>\n",
       "      <td>20.0</td>\n",
       "      <td>0.0</td>\n",
       "      <td>24.0</td>\n",
       "      <td>192.0</td>\n",
       "      <td>0.0</td>\n",
       "      <td>55.0</td>\n",
       "      <td>31.0</td>\n",
       "      <td>17.0</td>\n",
       "      <td>73.0</td>\n",
       "      <td>55.0</td>\n",
       "      <td>0.0</td>\n",
       "      <td>285.0</td>\n",
       "      <td>0.0</td>\n",
       "      <td>155.0</td>\n",
       "      <td>75.0</td>\n",
       "      <td>19.0</td>\n",
       "    </tr>\n",
       "    <tr>\n",
       "      <th>1</th>\n",
       "      <td>1980.0</td>\n",
       "      <td>12.0</td>\n",
       "      <td>94.0</td>\n",
       "      <td>0.0</td>\n",
       "      <td>0.0</td>\n",
       "      <td>20.0</td>\n",
       "      <td>260.0</td>\n",
       "      <td>0.0</td>\n",
       "      <td>61.0</td>\n",
       "      <td>37.0</td>\n",
       "      <td>0.0</td>\n",
       "      <td>50.0</td>\n",
       "      <td>72.0</td>\n",
       "      <td>0.0</td>\n",
       "      <td>442.0</td>\n",
       "      <td>0.0</td>\n",
       "      <td>0.0</td>\n",
       "      <td>0.0</td>\n",
       "      <td>57.0</td>\n",
       "    </tr>\n",
       "    <tr>\n",
       "      <th>2</th>\n",
       "      <td>1984.0</td>\n",
       "      <td>50.0</td>\n",
       "      <td>0.0</td>\n",
       "      <td>86.0</td>\n",
       "      <td>76.0</td>\n",
       "      <td>0.0</td>\n",
       "      <td>0.0</td>\n",
       "      <td>0.0</td>\n",
       "      <td>0.0</td>\n",
       "      <td>63.0</td>\n",
       "      <td>42.0</td>\n",
       "      <td>0.0</td>\n",
       "      <td>106.0</td>\n",
       "      <td>0.0</td>\n",
       "      <td>0.0</td>\n",
       "      <td>0.0</td>\n",
       "      <td>333.0</td>\n",
       "      <td>157.0</td>\n",
       "      <td>87.0</td>\n",
       "    </tr>\n",
       "    <tr>\n",
       "      <th>3</th>\n",
       "      <td>1988.0</td>\n",
       "      <td>34.0</td>\n",
       "      <td>41.0</td>\n",
       "      <td>21.0</td>\n",
       "      <td>53.0</td>\n",
       "      <td>0.0</td>\n",
       "      <td>174.0</td>\n",
       "      <td>0.0</td>\n",
       "      <td>44.0</td>\n",
       "      <td>29.0</td>\n",
       "      <td>77.0</td>\n",
       "      <td>21.0</td>\n",
       "      <td>51.0</td>\n",
       "      <td>0.0</td>\n",
       "      <td>294.0</td>\n",
       "      <td>0.0</td>\n",
       "      <td>193.0</td>\n",
       "      <td>113.0</td>\n",
       "      <td>63.0</td>\n",
       "    </tr>\n",
       "    <tr>\n",
       "      <th>4</th>\n",
       "      <td>1992.0</td>\n",
       "      <td>57.0</td>\n",
       "      <td>17.0</td>\n",
       "      <td>44.0</td>\n",
       "      <td>83.0</td>\n",
       "      <td>71.0</td>\n",
       "      <td>0.0</td>\n",
       "      <td>198.0</td>\n",
       "      <td>45.0</td>\n",
       "      <td>46.0</td>\n",
       "      <td>49.0</td>\n",
       "      <td>42.0</td>\n",
       "      <td>53.0</td>\n",
       "      <td>0.0</td>\n",
       "      <td>0.0</td>\n",
       "      <td>223.0</td>\n",
       "      <td>224.0</td>\n",
       "      <td>0.0</td>\n",
       "      <td>0.0</td>\n",
       "    </tr>\n",
       "    <tr>\n",
       "      <th>5</th>\n",
       "      <td>1996.0</td>\n",
       "      <td>132.0</td>\n",
       "      <td>21.0</td>\n",
       "      <td>51.0</td>\n",
       "      <td>110.0</td>\n",
       "      <td>57.0</td>\n",
       "      <td>0.0</td>\n",
       "      <td>124.0</td>\n",
       "      <td>43.0</td>\n",
       "      <td>71.0</td>\n",
       "      <td>66.0</td>\n",
       "      <td>21.0</td>\n",
       "      <td>38.0</td>\n",
       "      <td>115.0</td>\n",
       "      <td>0.0</td>\n",
       "      <td>0.0</td>\n",
       "      <td>260.0</td>\n",
       "      <td>0.0</td>\n",
       "      <td>26.0</td>\n",
       "    </tr>\n",
       "    <tr>\n",
       "      <th>6</th>\n",
       "      <td>2000.0</td>\n",
       "      <td>183.0</td>\n",
       "      <td>13.0</td>\n",
       "      <td>31.0</td>\n",
       "      <td>79.0</td>\n",
       "      <td>69.0</td>\n",
       "      <td>0.0</td>\n",
       "      <td>119.0</td>\n",
       "      <td>53.0</td>\n",
       "      <td>65.0</td>\n",
       "      <td>73.0</td>\n",
       "      <td>24.0</td>\n",
       "      <td>46.0</td>\n",
       "      <td>188.0</td>\n",
       "      <td>0.0</td>\n",
       "      <td>0.0</td>\n",
       "      <td>248.0</td>\n",
       "      <td>0.0</td>\n",
       "      <td>26.0</td>\n",
       "    </tr>\n",
       "    <tr>\n",
       "      <th>7</th>\n",
       "      <td>2004.0</td>\n",
       "      <td>157.0</td>\n",
       "      <td>17.0</td>\n",
       "      <td>17.0</td>\n",
       "      <td>94.0</td>\n",
       "      <td>61.0</td>\n",
       "      <td>0.0</td>\n",
       "      <td>149.0</td>\n",
       "      <td>40.0</td>\n",
       "      <td>102.0</td>\n",
       "      <td>52.0</td>\n",
       "      <td>12.0</td>\n",
       "      <td>39.0</td>\n",
       "      <td>192.0</td>\n",
       "      <td>0.0</td>\n",
       "      <td>0.0</td>\n",
       "      <td>264.0</td>\n",
       "      <td>0.0</td>\n",
       "      <td>0.0</td>\n",
       "    </tr>\n",
       "    <tr>\n",
       "      <th>8</th>\n",
       "      <td>2008.0</td>\n",
       "      <td>149.0</td>\n",
       "      <td>5.0</td>\n",
       "      <td>34.0</td>\n",
       "      <td>184.0</td>\n",
       "      <td>47.0</td>\n",
       "      <td>0.0</td>\n",
       "      <td>101.0</td>\n",
       "      <td>27.0</td>\n",
       "      <td>42.0</td>\n",
       "      <td>78.0</td>\n",
       "      <td>20.0</td>\n",
       "      <td>22.0</td>\n",
       "      <td>143.0</td>\n",
       "      <td>0.0</td>\n",
       "      <td>0.0</td>\n",
       "      <td>315.0</td>\n",
       "      <td>0.0</td>\n",
       "      <td>0.0</td>\n",
       "    </tr>\n",
       "  </tbody>\n",
       "</table>\n",
       "</div>"
      ],
      "text/plain": [
       "Country    Year  Australia  Bulgaria  Canada  China  Cuba  East Germany  \\\n",
       "0        1976.0       24.0      39.0    20.0    0.0  24.0         192.0   \n",
       "1        1980.0       12.0      94.0     0.0    0.0  20.0         260.0   \n",
       "2        1984.0       50.0       0.0    86.0   76.0   0.0           0.0   \n",
       "3        1988.0       34.0      41.0    21.0   53.0   0.0         174.0   \n",
       "4        1992.0       57.0      17.0    44.0   83.0  71.0           0.0   \n",
       "5        1996.0      132.0      21.0    51.0  110.0  57.0           0.0   \n",
       "6        2000.0      183.0      13.0    31.0   79.0  69.0           0.0   \n",
       "7        2004.0      157.0      17.0    17.0   94.0  61.0           0.0   \n",
       "8        2008.0      149.0       5.0    34.0  184.0  47.0           0.0   \n",
       "\n",
       "Country  Germany  Hungary  Italy  Korea, South  Poland  Romania  Russia  \\\n",
       "0            0.0     55.0   31.0          17.0    73.0     55.0     0.0   \n",
       "1            0.0     61.0   37.0           0.0    50.0     72.0     0.0   \n",
       "2            0.0      0.0   63.0          42.0     0.0    106.0     0.0   \n",
       "3            0.0     44.0   29.0          77.0    21.0     51.0     0.0   \n",
       "4          198.0     45.0   46.0          49.0    42.0     53.0     0.0   \n",
       "5          124.0     43.0   71.0          66.0    21.0     38.0   115.0   \n",
       "6          119.0     53.0   65.0          73.0    24.0     46.0   188.0   \n",
       "7          149.0     40.0  102.0          52.0    12.0     39.0   192.0   \n",
       "8          101.0     27.0   42.0          78.0    20.0     22.0   143.0   \n",
       "\n",
       "Country  Soviet Union  Unified team  United States  West Germany  Yugoslavia  \n",
       "0               285.0           0.0          155.0          75.0        19.0  \n",
       "1               442.0           0.0            0.0           0.0        57.0  \n",
       "2                 0.0           0.0          333.0         157.0        87.0  \n",
       "3               294.0           0.0          193.0         113.0        63.0  \n",
       "4                 0.0         223.0          224.0           0.0         0.0  \n",
       "5                 0.0           0.0          260.0           0.0        26.0  \n",
       "6                 0.0           0.0          248.0           0.0        26.0  \n",
       "7                 0.0           0.0          264.0           0.0         0.0  \n",
       "8                 0.0           0.0          315.0           0.0         0.0  "
      ]
     },
     "execution_count": 105,
     "metadata": {},
     "output_type": "execute_result"
    }
   ],
   "source": [
    "q9_data = q6_data[['Year', 'Country','Sum']].groupby(['Year']).apply(lambda x :x.nlargest(5,'Sum'))['Country'].drop_duplicates()\n",
    "temp =q6_data.where(q6_data.Country.isin(q9_data)).dropna()[[\"Year\",\"Country\", \"Sum\"]]\n",
    "temp = temp.pivot(index = ['Year'], columns = ['Country'],values = ['Sum']).reset_index()\n",
    "temp.columns = temp.columns.droplevel(0)\n",
    "temp = temp.rename(columns={ temp.columns[0]: \"Year\" })\n",
    "q9_data = temp.replace(np.nan, 0)\n",
    "q9_data"
   ]
  },
  {
   "cell_type": "markdown",
   "id": "71aa014b-d813-48ab-b0f7-3c23c0929d9a",
   "metadata": {},
   "source": [
    "So these are the top 5 countries in each olympic game. Lets Combine Soviet Union +\r\n",
    "Unified Team +Russia and East Germany + West Germany + Germany."
   ]
  },
  {
   "cell_type": "markdown",
   "id": "02c0d891-3b44-49a9-bebf-cc9bea4ab26a",
   "metadata": {},
   "source": [
    "Also lets drop Yugoslavia, Poland, South Korea, Italy, Hungary, Cuba, Canada,\r\n",
    "Bulgaria as they are only shown up once in top 5."
   ]
  },
  {
   "cell_type": "code",
   "execution_count": 121,
   "id": "fa69318e-d530-416a-a7d2-3587ad26fc13",
   "metadata": {},
   "outputs": [
    {
     "data": {
      "text/html": [
       "<div>\n",
       "<style scoped>\n",
       "    .dataframe tbody tr th:only-of-type {\n",
       "        vertical-align: middle;\n",
       "    }\n",
       "\n",
       "    .dataframe tbody tr th {\n",
       "        vertical-align: top;\n",
       "    }\n",
       "\n",
       "    .dataframe thead th {\n",
       "        text-align: right;\n",
       "    }\n",
       "</style>\n",
       "<table border=\"1\" class=\"dataframe\">\n",
       "  <thead>\n",
       "    <tr style=\"text-align: right;\">\n",
       "      <th>Country</th>\n",
       "      <th>Australia</th>\n",
       "      <th>China</th>\n",
       "      <th>Germany</th>\n",
       "      <th>Romania</th>\n",
       "      <th>Russia</th>\n",
       "      <th>United States</th>\n",
       "    </tr>\n",
       "    <tr>\n",
       "      <th>Year</th>\n",
       "      <th></th>\n",
       "      <th></th>\n",
       "      <th></th>\n",
       "      <th></th>\n",
       "      <th></th>\n",
       "      <th></th>\n",
       "    </tr>\n",
       "  </thead>\n",
       "  <tbody>\n",
       "    <tr>\n",
       "      <th>1976.0</th>\n",
       "      <td>24.0</td>\n",
       "      <td>0.0</td>\n",
       "      <td>1068.0</td>\n",
       "      <td>55.0</td>\n",
       "      <td>1425.0</td>\n",
       "      <td>155.0</td>\n",
       "    </tr>\n",
       "    <tr>\n",
       "      <th>1980.0</th>\n",
       "      <td>12.0</td>\n",
       "      <td>0.0</td>\n",
       "      <td>1040.0</td>\n",
       "      <td>72.0</td>\n",
       "      <td>2210.0</td>\n",
       "      <td>0.0</td>\n",
       "    </tr>\n",
       "    <tr>\n",
       "      <th>1984.0</th>\n",
       "      <td>50.0</td>\n",
       "      <td>76.0</td>\n",
       "      <td>628.0</td>\n",
       "      <td>106.0</td>\n",
       "      <td>0.0</td>\n",
       "      <td>333.0</td>\n",
       "    </tr>\n",
       "    <tr>\n",
       "      <th>1988.0</th>\n",
       "      <td>34.0</td>\n",
       "      <td>53.0</td>\n",
       "      <td>1148.0</td>\n",
       "      <td>51.0</td>\n",
       "      <td>1470.0</td>\n",
       "      <td>193.0</td>\n",
       "    </tr>\n",
       "    <tr>\n",
       "      <th>1992.0</th>\n",
       "      <td>57.0</td>\n",
       "      <td>83.0</td>\n",
       "      <td>198.0</td>\n",
       "      <td>53.0</td>\n",
       "      <td>1115.0</td>\n",
       "      <td>224.0</td>\n",
       "    </tr>\n",
       "    <tr>\n",
       "      <th>1996.0</th>\n",
       "      <td>132.0</td>\n",
       "      <td>110.0</td>\n",
       "      <td>124.0</td>\n",
       "      <td>38.0</td>\n",
       "      <td>115.0</td>\n",
       "      <td>260.0</td>\n",
       "    </tr>\n",
       "    <tr>\n",
       "      <th>2000.0</th>\n",
       "      <td>183.0</td>\n",
       "      <td>79.0</td>\n",
       "      <td>119.0</td>\n",
       "      <td>46.0</td>\n",
       "      <td>188.0</td>\n",
       "      <td>248.0</td>\n",
       "    </tr>\n",
       "    <tr>\n",
       "      <th>2004.0</th>\n",
       "      <td>157.0</td>\n",
       "      <td>94.0</td>\n",
       "      <td>149.0</td>\n",
       "      <td>39.0</td>\n",
       "      <td>192.0</td>\n",
       "      <td>264.0</td>\n",
       "    </tr>\n",
       "    <tr>\n",
       "      <th>2008.0</th>\n",
       "      <td>149.0</td>\n",
       "      <td>184.0</td>\n",
       "      <td>101.0</td>\n",
       "      <td>22.0</td>\n",
       "      <td>143.0</td>\n",
       "      <td>315.0</td>\n",
       "    </tr>\n",
       "  </tbody>\n",
       "</table>\n",
       "</div>"
      ],
      "text/plain": [
       "Country  Australia  China  Germany  Romania  Russia  United States\n",
       "Year                                                              \n",
       "1976.0        24.0    0.0   1068.0     55.0  1425.0          155.0\n",
       "1980.0        12.0    0.0   1040.0     72.0  2210.0            0.0\n",
       "1984.0        50.0   76.0    628.0    106.0     0.0          333.0\n",
       "1988.0        34.0   53.0   1148.0     51.0  1470.0          193.0\n",
       "1992.0        57.0   83.0    198.0     53.0  1115.0          224.0\n",
       "1996.0       132.0  110.0    124.0     38.0   115.0          260.0\n",
       "2000.0       183.0   79.0    119.0     46.0   188.0          248.0\n",
       "2004.0       157.0   94.0    149.0     39.0   192.0          264.0\n",
       "2008.0       149.0  184.0    101.0     22.0   143.0          315.0"
      ]
     },
     "execution_count": 121,
     "metadata": {},
     "output_type": "execute_result"
    }
   ],
   "source": [
    "q9_data.Germany = q9_data.Germany + q9_data['East Germany'] + q9_data['West Germany']\n",
    "q9_data.Russia = q9_data['Soviet Union'] + q9_data.Russia + q9_data['Unified team']\n",
    "q9_data = q9_data.drop(['Yugoslavia','Poland','Korea, South','Italy','Hungary','Cuba','Canada','Bulgaria','East Germany', 'West Germany', 'Soviet Union', 'Unified team'], axis= 1)\n",
    "q9_data =q9_data.set_index('Year')\n",
    "q9_data"
   ]
  },
  {
   "cell_type": "markdown",
   "id": "c7be6777-33bc-4a7e-9736-4138d12b9b24",
   "metadata": {},
   "source": [
    "Let's plot line graph for this."
   ]
  },
  {
   "cell_type": "code",
   "execution_count": 134,
   "id": "c0e7f11f-15f7-46ce-afbb-efbe01e0ec12",
   "metadata": {},
   "outputs": [
    {
     "name": "stderr",
     "output_type": "stream",
     "text": [
      "C:\\Users\\dell\\anaconda3\\Lib\\site-packages\\seaborn\\_oldcore.py:1119: FutureWarning: use_inf_as_na option is deprecated and will be removed in a future version. Convert inf values to NaN before operating instead.\n",
      "  with pd.option_context('mode.use_inf_as_na', True):\n",
      "C:\\Users\\dell\\anaconda3\\Lib\\site-packages\\seaborn\\_oldcore.py:1119: FutureWarning: use_inf_as_na option is deprecated and will be removed in a future version. Convert inf values to NaN before operating instead.\n",
      "  with pd.option_context('mode.use_inf_as_na', True):\n"
     ]
    },
    {
     "data": {
      "text/plain": [
       "<Axes: xlabel='Year'>"
      ]
     },
     "execution_count": 134,
     "metadata": {},
     "output_type": "execute_result"
    },
    {
     "data": {
      "image/png": "[encoded data removed]",
      "text/plain": [
       "<Figure size 1500x800 with 1 Axes>"
      ]
     },
     "metadata": {},
     "output_type": "display_data"
    }
   ],
   "source": [
    "plt.figure(figsize=(15,8))\n",
    "sns.lineplot(data = q9_data)"
   ]
  },
  {
   "cell_type": "code",
   "execution_count": null,
   "id": "0d3b7668-a9fe-4cf1-8782-2f785eb9f011",
   "metadata": {},
   "outputs": [],
   "source": []
  }
 ],
 "metadata": {
  "kernelspec": {
   "display_name": "Python 3 (ipykernel)",
   "language": "python",
   "name": "python3"
  },
  "language_info": {
   "codemirror_mode": {
    "name": "ipython",
    "version": 3
   },
   "file_extension": ".py",
   "mimetype": "text/x-python",
   "name": "python",
   "nbconvert_exporter": "python",
   "pygments_lexer": "ipython3",
   "version": "3.11.7"
  }
 },
 "nbformat": 4,
 "nbformat_minor": 5
}
